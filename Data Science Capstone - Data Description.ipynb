{
 "cells": [
  {
   "cell_type": "markdown",
   "metadata": {},
   "source": [
    "# Data \n",
    "\n",
    "In this study, the Data Collision for the Seattle, Washington region was used. In the Seattle dataset, each collision was assigned a severity code (1 or 2). For each collision, a detailed entry of information was entered including:\n",
    "\n",
    "1.\tDate/Time\n",
    "2.\tLocation Attributes (longitude, latitude, intersection type, intersection name, etc …)\n",
    "3.\tCollision Attributes (number of people/cars/cyclists/pedestrians, collision type, inebriation, etc …)\n",
    "4.\tDriving Condition Attributes (weather, road conditions, lighting conditions)\n",
    "5.\tState Code Attributes\n",
    "\n",
    "The Seattle dataset has been collected since 2004 until 2020. In this analysis, the contribution of attributes to collision severity will be analysis by applying a machine learning model.\n",
    "\n",
    "Evidently, it would be desirable to present collisions and provide a ‘risk index’ to drivers such that they could appropriately prepare for conditions and avoid driving if warranted. Therefore, the objective of this project was to develop a predictive model with the Seattle Washington collision data set to determine which attributes contribute to the risk of collisions. This was achieved by the following three aims:\n",
    "\n",
    "\n",
    "# Data Analysis Aims: \n",
    "\n",
    "1.\tAim 1: Data Preprocessing and Preparation\n",
    "2.\tAim 2: Data Visualization and Understanding\n",
    "3.\tAim 3: Model Fitting and Model Evaluation\n",
    "\n"
   ]
  },
  {
   "cell_type": "code",
   "execution_count": null,
   "metadata": {},
   "outputs": [],
   "source": []
  }
 ],
 "metadata": {
  "kernelspec": {
   "display_name": "Python 3",
   "language": "python",
   "name": "python3"
  },
  "language_info": {
   "codemirror_mode": {
    "name": "ipython",
    "version": 3
   },
   "file_extension": ".py",
   "mimetype": "text/x-python",
   "name": "python",
   "nbconvert_exporter": "python",
   "pygments_lexer": "ipython3",
   "version": "3.6.8"
  }
 },
 "nbformat": 4,
 "nbformat_minor": 4
}
