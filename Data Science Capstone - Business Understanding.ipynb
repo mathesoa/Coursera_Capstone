{
 "cells": [
  {
   "cell_type": "markdown",
   "metadata": {},
   "source": [
    "# Background and Business Understanding\n",
    "\n",
    "In North American cities, road accidents are a significant cause of fatality and injury each year. Cities and regions are likely to have comparable collision trends, owing to similarities in road rules, road infrastructure, and lifestyles. According to the most recent report on collision data for Alberta, Canada*, 290 fatalities and 17,186 injuries were reported in 2017 with a 7% yearly increase of traffic collisions (142,467) from 2016. In this same report, documented collision risk was higher based on several different factors:  \n",
    "\n",
    "*\tThe highest number of fatal collisions occurred in July.\n",
    "*\tThe highest number of injury collision occurred in November.\n",
    "*\tFriday was the most collision-prone day.\n",
    "*\tAfternoon rush hour was the most collision prone time-period.\n",
    "*\tMale drivers between the ages of (M) 16-17 had the highest involvement rate in casualty collision.\n",
    "*\tFollowing too closely, running of the road, and making a left turn across the path of an oncoming vehicle contributed the most to casualty collisions.\n",
    "*\tFatal collision occurred more frequently in rural areas.\n",
    "*\t15.4% of pedestrians involved in fatal collisions were impaired compared to 4.4 % of drives in the injury collisions. \n",
    "*\t10.2% of drivers in fatal collisions were impaired compared to 1.7% of drives in the injury collisions.\n",
    "\n",
    "Out of these risk factors, data attributes including date/time, location (rural/local, cross-section type), and impairment were key factors for collisions involving injuries and fatalities. In the dataset and statistics for Alberta, specific road conditions (weather, lighting) were not included. These key parameters (date/time, location, and impairment) are likely similar throughout cities/regions in North America. \n",
    "\n",
    "__Therefore developing a machine learning algorithm to accurately predict risks associated with various driving conditions could reduce collision count.__\n"
   ]
  },
  {
   "cell_type": "code",
   "execution_count": null,
   "metadata": {},
   "outputs": [],
   "source": []
  }
 ],
 "metadata": {
  "kernelspec": {
   "display_name": "Python 3",
   "language": "python",
   "name": "python3"
  },
  "language_info": {
   "codemirror_mode": {
    "name": "ipython",
    "version": 3
   },
   "file_extension": ".py",
   "mimetype": "text/x-python",
   "name": "python",
   "nbconvert_exporter": "python",
   "pygments_lexer": "ipython3",
   "version": "3.6.8"
  }
 },
 "nbformat": 4,
 "nbformat_minor": 4
}
